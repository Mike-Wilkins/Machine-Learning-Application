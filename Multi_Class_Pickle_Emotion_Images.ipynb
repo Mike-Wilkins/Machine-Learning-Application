{
 "cells": [
  {
   "cell_type": "markdown",
   "metadata": {},
   "source": [
    "# FER Pre-Processing Application"
   ]
  },
  {
   "cell_type": "code",
   "execution_count": 1,
   "metadata": {},
   "outputs": [],
   "source": [
    "import numpy as np\n",
    "import matplotlib.pyplot as plt\n",
    "import os\n",
    "import cv2\n",
    "import random\n",
    "import pickle"
   ]
  },
  {
   "cell_type": "code",
   "execution_count": 2,
   "metadata": {},
   "outputs": [],
   "source": [
    "DATADIR_TRAIN = \"Emotions_ModV10_cohn_plus/Train\"\n",
    "CATEGORIES_TRAIN = [\"Happy\",\"Sad\",\"Surprise\",\"Anger\",\"Disgust\"]\n",
    "\n",
    "DATADIR_VALID = \"Emotions_ModV10_cohn_plus/Valid\"\n",
    "CATEGORIES_VALID = [\"Happy\",\"Sad\",\"Surprise\",\"Anger\",\"Disgust\"]\n",
    "\n",
    "DATADIR_TEST = \"Emotions_ModV10_cohn_plus/Test\"\n",
    "CATEGORIES_TEST = [\"Happy\",\"Sad\",\"Surprise\",\"Anger\",\"Disgust\"]"
   ]
  },
  {
   "cell_type": "code",
   "execution_count": 3,
   "metadata": {},
   "outputs": [],
   "source": [
    "IMG_SIZE = 224"
   ]
  },
  {
   "cell_type": "markdown",
   "metadata": {},
   "source": [
    "# Pickle Training Data"
   ]
  },
  {
   "cell_type": "code",
   "execution_count": 4,
   "metadata": {},
   "outputs": [],
   "source": [
    "training_data =[]\n",
    "\n",
    "def create_training_data():\n",
    "    for category in CATEGORIES_TRAIN:\n",
    "        path = os.path.join(DATADIR_TRAIN, category)\n",
    "        class_num = CATEGORIES_TRAIN.index(category)\n",
    "        for img in os.listdir(path):\n",
    "            try:\n",
    "                img_array = cv2.imread(os.path.join(path,img), cv2.IMREAD_GRAYSCALE)  #Convert image to grayscale\n",
    "                new_array = cv2.resize(img_array, (IMG_SIZE, IMG_SIZE))             #Resize images to 224 x 224\n",
    "                training_data.append([new_array, class_num])                    #Append reformatted images and labels \n",
    "            except Exception as e:\n",
    "                pass\n",
    "\n",
    "create_training_data()"
   ]
  },
  {
   "cell_type": "code",
   "execution_count": 5,
   "metadata": {},
   "outputs": [],
   "source": [
    "#random.shuffle(training_data)"
   ]
  },
  {
   "cell_type": "code",
   "execution_count": 6,
   "metadata": {},
   "outputs": [],
   "source": [
    "X_train=[]\n",
    "y_train=[]\n",
    "\n",
    "for features, label in training_data:\n",
    "    X_train.append(features)\n",
    "    y_train.append(label)\n",
    "    \n",
    "X = np.array(X_train).reshape(-1, IMG_SIZE, IMG_SIZE, 1)\n"
   ]
  },
  {
   "cell_type": "code",
   "execution_count": 7,
   "metadata": {},
   "outputs": [],
   "source": [
    "with open(\"X_train.pickle\", \"wb\") as pickle_file: \n",
    "    pickle.dump(X, pickle_file)\n",
    "    \n",
    "with open(\"y_train.pickle\", \"wb\") as pickle_file: \n",
    "    pickle.dump(y_train, pickle_file)"
   ]
  },
  {
   "cell_type": "markdown",
   "metadata": {},
   "source": [
    "# Pickle Validation Data"
   ]
  },
  {
   "cell_type": "code",
   "execution_count": 8,
   "metadata": {},
   "outputs": [],
   "source": [
    "valid_data =[]\n",
    "\n",
    "def create_valid_data():\n",
    "    for category in CATEGORIES_VALID:\n",
    "        path = os.path.join(DATADIR_VALID, category)\n",
    "        class_num = CATEGORIES_VALID.index(category)\n",
    "        for img in os.listdir(path):\n",
    "            try:\n",
    "                img_array = cv2.imread(os.path.join(path,img), cv2.IMREAD_GRAYSCALE)\n",
    "                new_array = cv2.resize(img_array, (IMG_SIZE, IMG_SIZE))\n",
    "                valid_data.append([new_array, class_num])\n",
    "            except Exception as e:\n",
    "                pass\n",
    "\n",
    "create_valid_data()"
   ]
  },
  {
   "cell_type": "code",
   "execution_count": 9,
   "metadata": {},
   "outputs": [],
   "source": [
    "random.shuffle(valid_data)"
   ]
  },
  {
   "cell_type": "code",
   "execution_count": 10,
   "metadata": {},
   "outputs": [],
   "source": [
    "X_valid=[]\n",
    "y_valid=[]\n",
    "\n",
    "for features, label in valid_data:\n",
    "    X_valid.append(features)\n",
    "    y_valid.append(label)\n",
    "    \n",
    "X = np.array(X_valid).reshape(-1, IMG_SIZE, IMG_SIZE, 1)"
   ]
  },
  {
   "cell_type": "code",
   "execution_count": 11,
   "metadata": {},
   "outputs": [],
   "source": [
    "with open(\"X_valid.pickle\", \"wb\") as pickle_file: \n",
    "    pickle.dump(X, pickle_file)\n",
    "    \n",
    "with open(\"y_valid.pickle\", \"wb\") as pickle_file: \n",
    "    pickle.dump(y_valid, pickle_file)"
   ]
  },
  {
   "cell_type": "markdown",
   "metadata": {},
   "source": [
    "# Pickle Test Data"
   ]
  },
  {
   "cell_type": "code",
   "execution_count": 12,
   "metadata": {},
   "outputs": [],
   "source": [
    "test_data =[]\n",
    "\n",
    "def create_test_data():\n",
    "    for category in CATEGORIES_TEST:\n",
    "        path = os.path.join(DATADIR_TEST, category)\n",
    "        class_num = CATEGORIES_TEST.index(category)\n",
    "        for img in os.listdir(path):\n",
    "            try:\n",
    "                img_array = cv2.imread(os.path.join(path,img), cv2.IMREAD_GRAYSCALE)\n",
    "                new_array = cv2.resize(img_array, (IMG_SIZE, IMG_SIZE))\n",
    "                test_data.append([new_array, class_num])\n",
    "            except Exception as e:\n",
    "                pass\n",
    "\n",
    "create_test_data()"
   ]
  },
  {
   "cell_type": "code",
   "execution_count": 13,
   "metadata": {},
   "outputs": [],
   "source": [
    "random.shuffle(test_data)"
   ]
  },
  {
   "cell_type": "code",
   "execution_count": 14,
   "metadata": {},
   "outputs": [],
   "source": [
    "X_test=[]\n",
    "y_test=[]\n",
    "\n",
    "for features, label in test_data:\n",
    "    X_test.append(features)\n",
    "    y_test.append(label)\n",
    "    \n",
    "X = np.array(X_test).reshape(-1, IMG_SIZE, IMG_SIZE, 1)"
   ]
  },
  {
   "cell_type": "code",
   "execution_count": 15,
   "metadata": {},
   "outputs": [],
   "source": [
    "with open(\"X_test.pickle\", \"wb\") as pickle_file: \n",
    "    pickle.dump(X, pickle_file)\n",
    "    \n",
    "with open(\"y_test.pickle\", \"wb\") as pickle_file: \n",
    "    pickle.dump(y_test, pickle_file)"
   ]
  }
 ],
 "metadata": {
  "kernelspec": {
   "display_name": "Python 3",
   "language": "python",
   "name": "python3"
  },
  "language_info": {
   "codemirror_mode": {
    "name": "ipython",
    "version": 3
   },
   "file_extension": ".py",
   "mimetype": "text/x-python",
   "name": "python",
   "nbconvert_exporter": "python",
   "pygments_lexer": "ipython3",
   "version": "3.7.3"
  }
 },
 "nbformat": 4,
 "nbformat_minor": 2
}
